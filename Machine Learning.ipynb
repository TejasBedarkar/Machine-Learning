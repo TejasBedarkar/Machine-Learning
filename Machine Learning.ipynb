{
 "cells": [
  {
   "cell_type": "markdown",
   "id": "a4434daa",
   "metadata": {},
   "source": [
    "# Linear Regression"
   ]
  },
  {
   "cell_type": "code",
   "execution_count": 1,
   "id": "37d89947",
   "metadata": {},
   "outputs": [
    {
     "ename": "SyntaxError",
     "evalue": "invalid syntax (2232057035.py, line 1)",
     "output_type": "error",
     "traceback": [
      "\u001b[1;36m  Cell \u001b[1;32mIn[1], line 1\u001b[1;36m\u001b[0m\n\u001b[1;33m    PROBLEM:-\u001b[0m\n\u001b[1;37m             ^\u001b[0m\n\u001b[1;31mSyntaxError\u001b[0m\u001b[1;31m:\u001b[0m invalid syntax\n"
     ]
    }
   ],
   "source": [
    "PROBLEM:-\n",
    "    To Predict The Price Of The House By Using Area"
   ]
  },
  {
   "cell_type": "code",
   "execution_count": null,
   "id": "ac9df3c2",
   "metadata": {},
   "outputs": [],
   "source": [
    "import pandas as pd"
   ]
  },
  {
   "cell_type": "code",
   "execution_count": null,
   "id": "93288668",
   "metadata": {},
   "outputs": [],
   "source": [
    "df=pd.read_csv(\"D:\\\\ML Documents\\\\Linear Regression\\\\Kmt.csv\")\n",
    "df"
   ]
  },
  {
   "cell_type": "code",
   "execution_count": null,
   "id": "5f8b0066",
   "metadata": {},
   "outputs": [],
   "source": [
    "import matplotlib.pyplot as plt"
   ]
  },
  {
   "cell_type": "code",
   "execution_count": null,
   "id": "95263aac",
   "metadata": {},
   "outputs": [],
   "source": [
    "plt.scatter(df.Area,df.Price)"
   ]
  },
  {
   "cell_type": "code",
   "execution_count": null,
   "id": "1c1d7781",
   "metadata": {},
   "outputs": [],
   "source": [
    "# y=m*x+b \n",
    "# This equation's logic will gonna use mostly\n",
    "# Where\n",
    "# Y is Dependent \n",
    "# X is Independent"
   ]
  },
  {
   "cell_type": "code",
   "execution_count": null,
   "id": "081e6ddd",
   "metadata": {},
   "outputs": [],
   "source": [
    "from sklearn import linear_model"
   ]
  },
  {
   "cell_type": "code",
   "execution_count": null,
   "id": "81f566c8",
   "metadata": {},
   "outputs": [],
   "source": [
    "ndf=df.drop(\"Price\",axis=1)\n",
    "ndf"
   ]
  },
  {
   "cell_type": "code",
   "execution_count": null,
   "id": "5bca487e",
   "metadata": {},
   "outputs": [],
   "source": [
    "model=linear_model.LinearRegression()\n",
    "model"
   ]
  },
  {
   "cell_type": "code",
   "execution_count": null,
   "id": "85293936",
   "metadata": {},
   "outputs": [],
   "source": [
    "model.fit(ndf,df.Price)"
   ]
  },
  {
   "cell_type": "code",
   "execution_count": null,
   "id": "9c4ebba8",
   "metadata": {},
   "outputs": [],
   "source": [
    "model.predict([[3333]])\n",
    "# Always in 2D "
   ]
  },
  {
   "cell_type": "code",
   "execution_count": null,
   "id": "5ecfe572",
   "metadata": {},
   "outputs": [],
   "source": [
    "# If We Want To Find Price By Using Formula"
   ]
  },
  {
   "cell_type": "code",
   "execution_count": null,
   "id": "3a4267f1",
   "metadata": {},
   "outputs": [],
   "source": [
    "model.coef_"
   ]
  },
  {
   "cell_type": "code",
   "execution_count": null,
   "id": "f2fe8fe0",
   "metadata": {},
   "outputs": [],
   "source": [
    "model.intercept_"
   ]
  },
  {
   "cell_type": "code",
   "execution_count": null,
   "id": "500ede57",
   "metadata": {},
   "outputs": [],
   "source": [
    "135.78767123*3333+180616.43835616432\n"
   ]
  },
  {
   "cell_type": "code",
   "execution_count": null,
   "id": "9801258c",
   "metadata": {},
   "outputs": [],
   "source": [
    "# If we want to predict all the data of CSV file in which Only area column is present then "
   ]
  },
  {
   "cell_type": "code",
   "execution_count": null,
   "id": "b7a82d14",
   "metadata": {},
   "outputs": [],
   "source": [
    "abc=pd.read_csv(\"D:\\\\ML Documents\\\\Linear Regression\\\\Book1.csv\")\n",
    "abc"
   ]
  },
  {
   "cell_type": "code",
   "execution_count": null,
   "id": "c2af7e2f",
   "metadata": {},
   "outputs": [],
   "source": [
    "model.predict(abc)"
   ]
  },
  {
   "cell_type": "code",
   "execution_count": null,
   "id": "49c38bdb",
   "metadata": {
    "scrolled": false
   },
   "outputs": [],
   "source": [
    "abc[\"Prices\"]=model.predict(abc)\n",
    "abc"
   ]
  },
  {
   "cell_type": "code",
   "execution_count": null,
   "id": "2bdf92ba",
   "metadata": {},
   "outputs": [],
   "source": [
    "abc.to_csv(\"hpred.csv\")"
   ]
  },
  {
   "cell_type": "markdown",
   "id": "b971eec1",
   "metadata": {},
   "source": [
    "# Linear Regression For Multiple Variables"
   ]
  },
  {
   "cell_type": "code",
   "execution_count": null,
   "id": "1bb09c27",
   "metadata": {},
   "outputs": [],
   "source": [
    "# For multiple variable\n",
    "y=m*x1+m*x2+m*x3+.........+c"
   ]
  },
  {
   "cell_type": "code",
   "execution_count": null,
   "id": "26be0816",
   "metadata": {},
   "outputs": [],
   "source": [
    "# All independent variables are features"
   ]
  },
  {
   "cell_type": "code",
   "execution_count": null,
   "id": "53f87a67",
   "metadata": {},
   "outputs": [],
   "source": [
    "import pandas as pd\n",
    "import matplotlib.pyplot as plt"
   ]
  },
  {
   "cell_type": "code",
   "execution_count": null,
   "id": "d61d024f",
   "metadata": {},
   "outputs": [],
   "source": [
    "df=pd.read_csv(\"D:\\ML Documents\\Linear Regression\\mulvar.csv\")\n",
    "df"
   ]
  },
  {
   "cell_type": "code",
   "execution_count": null,
   "id": "597fa5b0",
   "metadata": {},
   "outputs": [],
   "source": [
    "plt.scatter(df.area,df.bedroom,df.age,df.price)\n",
    "plt.legend()"
   ]
  },
  {
   "cell_type": "code",
   "execution_count": null,
   "id": "f3d4dc77",
   "metadata": {},
   "outputs": [],
   "source": [
    "# DATA CLEANING AND HANDLING MISSING VALUES"
   ]
  },
  {
   "cell_type": "code",
   "execution_count": null,
   "id": "7f8259b3",
   "metadata": {},
   "outputs": [],
   "source": [
    "df.median()"
   ]
  },
  {
   "cell_type": "code",
   "execution_count": null,
   "id": "1f42dc0a",
   "metadata": {},
   "outputs": [],
   "source": [
    "df.bedroom=df.bedroom.fillna(df.bedroom.median())\n",
    "df"
   ]
  },
  {
   "cell_type": "code",
   "execution_count": null,
   "id": "b4859907",
   "metadata": {},
   "outputs": [],
   "source": [
    "from sklearn import linear_model\n",
    "import pandas as pd"
   ]
  },
  {
   "cell_type": "code",
   "execution_count": null,
   "id": "2a12b22d",
   "metadata": {
    "scrolled": true
   },
   "outputs": [],
   "source": [
    "model=linear_model.LinearRegression()\n",
    "model"
   ]
  },
  {
   "cell_type": "code",
   "execution_count": null,
   "id": "19f8802b",
   "metadata": {},
   "outputs": [],
   "source": [
    "# Always seperate independent variables from dependent variables\n",
    "x=df.drop(\"price\",axis=1)\n",
    "x"
   ]
  },
  {
   "cell_type": "code",
   "execution_count": null,
   "id": "0738c54d",
   "metadata": {
    "scrolled": false
   },
   "outputs": [],
   "source": [
    "# We can insert only 2 variables inside the fit method\n",
    "model.fit(x,df.price)"
   ]
  },
  {
   "cell_type": "code",
   "execution_count": null,
   "id": "b9d8dbb8",
   "metadata": {
    "scrolled": true
   },
   "outputs": [],
   "source": [
    "model.predict([[3000,3,40]])"
   ]
  },
  {
   "cell_type": "code",
   "execution_count": null,
   "id": "cede2e95",
   "metadata": {},
   "outputs": [],
   "source": [
    "rt=pd.read_csv(\"D:\\ML Documents\\Linear Regression\\Exercise\\hiring.csv\")\n",
    "rt"
   ]
  },
  {
   "cell_type": "code",
   "execution_count": null,
   "id": "4d4c04e7",
   "metadata": {},
   "outputs": [],
   "source": [
    "# use mostly this method\n",
    "rt[\"test_score(out of 10)\"]=rt[\"test_score(out of 10)\"].fillna(rt[\"test_score(out of 10)\"].median())\n",
    "rt"
   ]
  },
  {
   "cell_type": "code",
   "execution_count": null,
   "id": "62db34a7",
   "metadata": {},
   "outputs": [],
   "source": [
    "rt[\"experience\"]=rt[\"experience\"].fillna(\"zero\")\n",
    "rt"
   ]
  },
  {
   "cell_type": "code",
   "execution_count": null,
   "id": "6907b1d6",
   "metadata": {},
   "outputs": [],
   "source": [
    "from word2number import w2n\n",
    "rt.experience = rt.experience.apply(w2n.word_to_num)\n",
    "rt"
   ]
  },
  {
   "cell_type": "code",
   "execution_count": null,
   "id": "6d23d2c0",
   "metadata": {},
   "outputs": [],
   "source": [
    "fg=rt.drop(\"salary($)\",axis=1)\n",
    "fg"
   ]
  },
  {
   "cell_type": "code",
   "execution_count": null,
   "id": "ee5a70d4",
   "metadata": {},
   "outputs": [],
   "source": [
    "modelq=linear_model.LinearRegression()\n",
    "modelq"
   ]
  },
  {
   "cell_type": "code",
   "execution_count": null,
   "id": "310ca9b7",
   "metadata": {},
   "outputs": [],
   "source": [
    "modelq.fit(fg,rt[\"salary($)\"])"
   ]
  },
  {
   "cell_type": "code",
   "execution_count": null,
   "id": "c699eb92",
   "metadata": {},
   "outputs": [],
   "source": [
    "modelq.predict([[15,10,10]])"
   ]
  },
  {
   "cell_type": "markdown",
   "id": "1cf36978",
   "metadata": {},
   "source": [
    "# Gradient Descent"
   ]
  },
  {
   "cell_type": "markdown",
   "id": "b92c4d97",
   "metadata": {},
   "source": [
    "By learning math we will have to know what machine learning model gonna use for a perticular method  "
   ]
  },
  {
   "cell_type": "code",
   "execution_count": null,
   "id": "6792aa5c",
   "metadata": {},
   "outputs": [],
   "source": [
    "Gradient Descent is an algorithm that finds fit line for given training data set."
   ]
  },
  {
   "cell_type": "code",
   "execution_count": null,
   "id": "6722e832",
   "metadata": {},
   "outputs": [],
   "source": [
    "Try and Error base approach"
   ]
  },
  {
   "cell_type": "code",
   "execution_count": null,
   "id": "cdaf843a",
   "metadata": {},
   "outputs": [],
   "source": [
    "# "
   ]
  },
  {
   "cell_type": "code",
   "execution_count": null,
   "id": "cf613a1b",
   "metadata": {},
   "outputs": [],
   "source": []
  },
  {
   "cell_type": "code",
   "execution_count": null,
   "id": "50669f89",
   "metadata": {},
   "outputs": [],
   "source": []
  },
  {
   "cell_type": "markdown",
   "id": "c29acba7",
   "metadata": {},
   "source": [
    "# Save Model Using Jonlib & Pickle"
   ]
  },
  {
   "cell_type": "code",
   "execution_count": null,
   "id": "ab0fe13e",
   "metadata": {},
   "outputs": [],
   "source": [
    "By using these modules then no need to run again all slides again"
   ]
  },
  {
   "cell_type": "code",
   "execution_count": null,
   "id": "5101f9ca",
   "metadata": {},
   "outputs": [],
   "source": [
    "Lets use it on first project (home prices)"
   ]
  },
  {
   "cell_type": "code",
   "execution_count": null,
   "id": "f41f6048",
   "metadata": {},
   "outputs": [],
   "source": [
    "import pickle "
   ]
  },
  {
   "cell_type": "code",
   "execution_count": null,
   "id": "13999b49",
   "metadata": {},
   "outputs": [],
   "source": [
    "with open('model_pickle','wb') as file:\n",
    "    pickle.dump(model,file)"
   ]
  },
  {
   "cell_type": "code",
   "execution_count": null,
   "id": "761f0554",
   "metadata": {},
   "outputs": [],
   "source": [
    "with open('model_pickle','rb') as f:\n",
    "    mp=pickle.load(f)"
   ]
  },
  {
   "cell_type": "code",
   "execution_count": null,
   "id": "d4c63318",
   "metadata": {},
   "outputs": [],
   "source": [
    "mp.coef_"
   ]
  },
  {
   "cell_type": "code",
   "execution_count": null,
   "id": "d3908f22",
   "metadata": {},
   "outputs": [],
   "source": [
    "mp.predict([[2000,5,20]])"
   ]
  },
  {
   "cell_type": "code",
   "execution_count": null,
   "id": "6d45db4f",
   "metadata": {},
   "outputs": [],
   "source": [
    "Our data is short so pickale is ok for it.\n",
    "But for large no. of numpy array data we must have to use (joblib)"
   ]
  },
  {
   "cell_type": "code",
   "execution_count": null,
   "id": "a1c2960c",
   "metadata": {},
   "outputs": [],
   "source": [
    "import joblib"
   ]
  },
  {
   "cell_type": "code",
   "execution_count": null,
   "id": "69ed68a9",
   "metadata": {},
   "outputs": [],
   "source": [
    "joblib.dump(model,\"model_joblib\")"
   ]
  },
  {
   "cell_type": "code",
   "execution_count": null,
   "id": "5c95fc62",
   "metadata": {},
   "outputs": [],
   "source": [
    "mj=joblib.load(\"model_joblib\")"
   ]
  },
  {
   "cell_type": "code",
   "execution_count": null,
   "id": "8152b1b9",
   "metadata": {},
   "outputs": [],
   "source": [
    "mj.predict([[3000,4,54]])"
   ]
  },
  {
   "cell_type": "markdown",
   "id": "7822b29e",
   "metadata": {},
   "source": [
    "# Dummy Variables & One Hot Encoding"
   ]
  },
  {
   "cell_type": "code",
   "execution_count": null,
   "id": "153d88ea",
   "metadata": {},
   "outputs": [],
   "source": [
    "what is the price of home according to area (in data file there are many areas are given\n",
    "so we can fine the price home by using this methods)"
   ]
  },
  {
   "cell_type": "code",
   "execution_count": null,
   "id": "40d871e8",
   "metadata": {},
   "outputs": [],
   "source": [
    "how Should we handle text data in numeric model"
   ]
  },
  {
   "cell_type": "code",
   "execution_count": null,
   "id": "6c6e559b",
   "metadata": {},
   "outputs": [],
   "source": [
    "ml knows no. not text"
   ]
  },
  {
   "cell_type": "code",
   "execution_count": null,
   "id": "83acdf52",
   "metadata": {},
   "outputs": [],
   "source": [
    "so to solve this problem this method convert texts into form of no."
   ]
  },
  {
   "cell_type": "code",
   "execution_count": null,
   "id": "15af9a5c",
   "metadata": {},
   "outputs": [],
   "source": [
    "the demerits of this method is ml model start some operation on these texts no. "
   ]
  },
  {
   "cell_type": "code",
   "execution_count": null,
   "id": "98b9b7be",
   "metadata": {},
   "outputs": [],
   "source": [
    "import pandas as pd "
   ]
  },
  {
   "cell_type": "code",
   "execution_count": null,
   "id": "a6fafb67",
   "metadata": {},
   "outputs": [],
   "source": [
    "df=pd.read_csv(\"D:\\ML Documents\\Dummy and one hot\\okkk.csv\")\n",
    "df"
   ]
  },
  {
   "cell_type": "code",
   "execution_count": null,
   "id": "a13334cc",
   "metadata": {},
   "outputs": [],
   "source": [
    "a=pd.get_dummies(df.City)\n",
    "a"
   ]
  },
  {
   "cell_type": "code",
   "execution_count": null,
   "id": "05c346d4",
   "metadata": {},
   "outputs": [],
   "source": []
  },
  {
   "cell_type": "code",
   "execution_count": null,
   "id": "bdecd953",
   "metadata": {},
   "outputs": [],
   "source": []
  },
  {
   "cell_type": "code",
   "execution_count": null,
   "id": "4247751c",
   "metadata": {},
   "outputs": [],
   "source": []
  },
  {
   "cell_type": "code",
   "execution_count": null,
   "id": "1b357dae",
   "metadata": {},
   "outputs": [],
   "source": []
  },
  {
   "cell_type": "code",
   "execution_count": null,
   "id": "7c869bdb",
   "metadata": {},
   "outputs": [],
   "source": []
  },
  {
   "cell_type": "code",
   "execution_count": null,
   "id": "6501722e",
   "metadata": {},
   "outputs": [],
   "source": []
  },
  {
   "cell_type": "code",
   "execution_count": null,
   "id": "89b18e33",
   "metadata": {},
   "outputs": [],
   "source": []
  },
  {
   "cell_type": "code",
   "execution_count": null,
   "id": "87bb7ccd",
   "metadata": {},
   "outputs": [],
   "source": []
  },
  {
   "cell_type": "code",
   "execution_count": null,
   "id": "0df521df",
   "metadata": {},
   "outputs": [],
   "source": []
  },
  {
   "cell_type": "code",
   "execution_count": null,
   "id": "1e5cffb9",
   "metadata": {},
   "outputs": [],
   "source": []
  },
  {
   "cell_type": "code",
   "execution_count": null,
   "id": "ce95accf",
   "metadata": {},
   "outputs": [],
   "source": []
  },
  {
   "cell_type": "code",
   "execution_count": null,
   "id": "8a4cdff5",
   "metadata": {},
   "outputs": [],
   "source": []
  },
  {
   "cell_type": "code",
   "execution_count": null,
   "id": "aea3066a",
   "metadata": {},
   "outputs": [],
   "source": []
  },
  {
   "cell_type": "code",
   "execution_count": null,
   "id": "0b4f75aa",
   "metadata": {},
   "outputs": [],
   "source": []
  },
  {
   "cell_type": "code",
   "execution_count": null,
   "id": "d1da61c6",
   "metadata": {},
   "outputs": [],
   "source": []
  }
 ],
 "metadata": {
  "kernelspec": {
   "display_name": "Python 3 (ipykernel)",
   "language": "python",
   "name": "python3"
  },
  "language_info": {
   "codemirror_mode": {
    "name": "ipython",
    "version": 3
   },
   "file_extension": ".py",
   "mimetype": "text/x-python",
   "name": "python",
   "nbconvert_exporter": "python",
   "pygments_lexer": "ipython3",
   "version": "3.11.5"
  }
 },
 "nbformat": 4,
 "nbformat_minor": 5
}
